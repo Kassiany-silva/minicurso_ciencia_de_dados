{
 "cells": [
  {
   "cell_type": "code",
   "execution_count": 1,
   "id": "f366f3dc",
   "metadata": {},
   "outputs": [],
   "source": [
    "from common import ingest_ibge_data, ingest_cad_unico_data, ingest_data_dictionary"
   ]
  },
  {
   "cell_type": "code",
   "execution_count": 2,
   "id": "9a46903c",
   "metadata": {},
   "outputs": [
    {
     "name": "stderr",
     "output_type": "stream",
     "text": [
      "2025-06-26 22:12:45,992 - INFO - Ingesting IBGE data...\n",
      "2025-06-26 22:12:45,996 - INFO - Downloading IBGE data...\n",
      "2025-06-26 22:12:47,054 - INFO - IBGE data downloaded successfully.\n",
      "2025-06-26 22:12:47,168 - INFO - Connected to database: database.duckdb\n",
      "2025-06-26 22:12:47,212 - INFO - Executing query...\n",
      "2025-06-26 22:12:47,658 - INFO - Query executed successfully\n",
      "2025-06-26 22:12:47,696 - INFO - IBGE data ingested successfully.\n"
     ]
    }
   ],
   "source": [
    "ingest_ibge_data()"
   ]
  },
  {
   "cell_type": "code",
   "execution_count": 3,
   "id": "4518107a",
   "metadata": {},
   "outputs": [
    {
     "name": "stderr",
     "output_type": "stream",
     "text": [
      "2025-06-26 22:12:54,404 - INFO - Ingesting CAD Unico data...\n",
      "2025-06-26 22:12:54,407 - INFO - Downloading CAD Unico data...\n",
      "2025-06-26 22:12:55,210 - INFO - CAD Unico data downloaded successfully.\n",
      "2025-06-26 22:12:55,210 - INFO - Saving CAD Unico data to disk...\n",
      "2025-06-26 22:19:30,270 - INFO - CAD Unico data saved successfully.\n",
      "2025-06-26 22:19:30,272 - INFO - Extracting CAD Unico data...\n",
      "2025-06-26 22:20:04,491 - INFO - CAD Unico data extracted successfully.\n",
      "2025-06-26 22:20:04,494 - INFO - Cleaning CAD Unico CSV files...\n",
      "2025-06-26 22:20:04,498 - INFO - Cleaning CSV file: data/base_amostra_cad_201812/base_amostra_pessoa_201812.csv\n",
      "2025-06-26 22:20:04,501 - INFO - Cleaning CSV file: data/base_amostra_cad_201812/base_amostra_familia_201812.csv\n",
      "2025-06-26 22:23:30,945 - INFO - CSV file cleaned successfully: data/base_amostra_cad_201812/base_amostra_familia_201812.csv\n",
      "2025-06-26 22:25:18,796 - INFO - CSV file cleaned successfully: data/base_amostra_cad_201812/base_amostra_pessoa_201812.csv\n",
      "2025-06-26 22:25:18,799 - INFO - CAD Unico CSV files cleaned successfully.\n",
      "2025-06-26 22:25:18,888 - INFO - Connected to database: database.duckdb\n",
      "2025-06-26 22:25:18,905 - INFO - Executing query...\n"
     ]
    },
    {
     "data": {
      "application/vnd.jupyter.widget-view+json": {
       "model_id": "055e332fb62f4ab4b40220b82b713e14",
       "version_major": 2,
       "version_minor": 0
      },
      "text/plain": [
       "FloatProgress(value=0.0, layout=Layout(width='auto'), style=ProgressStyle(bar_color='black'))"
      ]
     },
     "metadata": {},
     "output_type": "display_data"
    },
    {
     "name": "stderr",
     "output_type": "stream",
     "text": [
      "2025-06-26 22:25:55,607 - INFO - Query executed successfully\n",
      "2025-06-26 22:25:55,693 - INFO - Executing query...\n"
     ]
    },
    {
     "data": {
      "application/vnd.jupyter.widget-view+json": {
       "model_id": "8e52927aa4fd4b859824f37294f5581f",
       "version_major": 2,
       "version_minor": 0
      },
      "text/plain": [
       "FloatProgress(value=0.0, layout=Layout(width='auto'), style=ProgressStyle(bar_color='black'))"
      ]
     },
     "metadata": {},
     "output_type": "display_data"
    },
    {
     "name": "stderr",
     "output_type": "stream",
     "text": [
      "2025-06-26 22:26:10,062 - INFO - Query executed successfully\n",
      "2025-06-26 22:26:10,083 - INFO - CAD Unico data ingested successfully.\n"
     ]
    }
   ],
   "source": [
    "ingest_cad_unico_data()"
   ]
  },
  {
   "cell_type": "code",
   "execution_count": 4,
   "id": "ae8642df",
   "metadata": {},
   "outputs": [
    {
     "name": "stderr",
     "output_type": "stream",
     "text": [
      "2025-06-26 22:26:10,380 - INFO - Ingesting CAD Unico data dictionary...\n",
      "2025-06-26 22:26:10,382 - INFO - Downloading data dictionary...\n",
      "2025-06-26 22:26:12,937 - INFO - Data dictionary downloaded successfully.\n",
      "2025-06-26 22:26:12,940 - INFO - Cleaning Excel file: data/Dicionario_base_identificada_pt_R03.xlsx\n",
      "2025-06-26 22:26:20,446 - INFO - Excel file cleaned successfully: data/Dicionario_base_identificada_pt_R03.xlsx\n"
     ]
    }
   ],
   "source": [
    "ingest_data_dictionary()"
   ]
  }
 ],
 "metadata": {
  "kernelspec": {
   "display_name": "Python 3",
   "language": "python",
   "name": "python3"
  },
  "language_info": {
   "codemirror_mode": {
    "name": "ipython",
    "version": 3
   },
   "file_extension": ".py",
   "mimetype": "text/x-python",
   "name": "python",
   "nbconvert_exporter": "python",
   "pygments_lexer": "ipython3",
   "version": "3.13.3"
  }
 },
 "nbformat": 4,
 "nbformat_minor": 5
}
